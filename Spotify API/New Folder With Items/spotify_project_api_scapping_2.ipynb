{
 "cells": [
  {
   "cell_type": "markdown",
   "metadata": {
    "slideshow": {
     "slide_type": "slide"
    }
   },
   "source": [
    "# Song Recommender"
   ]
  },
  {
   "cell_type": "code",
   "execution_count": 1,
   "metadata": {
    "slideshow": {
     "slide_type": "skip"
    }
   },
   "outputs": [],
   "source": [
    "import pandas as pd\n",
    "import numpy as np\n",
    "import pandas as pd\n",
    "from sklearn import datasets # sklearn comes with some toy datasets to practise\n",
    "from sklearn.preprocessing import StandardScaler\n",
    "from sklearn.cluster import KMeans\n",
    "from matplotlib import pyplot\n",
    "import numpy as np\n",
    "import matplotlib.pyplot as plt\n",
    "%matplotlib inline"
   ]
  },
  {
   "cell_type": "code",
   "execution_count": 2,
   "metadata": {
    "slideshow": {
     "slide_type": "subslide"
    }
   },
   "outputs": [
    {
     "data": {
      "text/plain": [
       "(5295, 17)"
      ]
     },
     "execution_count": 2,
     "metadata": {},
     "output_type": "execute_result"
    }
   ],
   "source": [
    "df = pd.read_csv('spotify_database_2.0.csv')\n",
    "df_dtypes = pd.DataFrame(df.select_dtypes(include=['float64', 'int']))\n",
    "df_dtypes.head(5)\n",
    "df.shape\n",
    "\n",
    "#creating a dataframe with the numerical features"
   ]
  },
  {
   "cell_type": "code",
   "execution_count": 3,
   "metadata": {
    "slideshow": {
     "slide_type": "slide"
    }
   },
   "outputs": [
    {
     "data": {
      "text/html": [
       "<div>\n",
       "<style scoped>\n",
       "    .dataframe tbody tr th:only-of-type {\n",
       "        vertical-align: middle;\n",
       "    }\n",
       "\n",
       "    .dataframe tbody tr th {\n",
       "        vertical-align: top;\n",
       "    }\n",
       "\n",
       "    .dataframe thead th {\n",
       "        text-align: right;\n",
       "    }\n",
       "</style>\n",
       "<table border=\"1\" class=\"dataframe\">\n",
       "  <thead>\n",
       "    <tr style=\"text-align: right;\">\n",
       "      <th></th>\n",
       "      <th>danceability</th>\n",
       "      <th>energy</th>\n",
       "      <th>key</th>\n",
       "      <th>loudness</th>\n",
       "      <th>mode</th>\n",
       "      <th>acousticness</th>\n",
       "      <th>instrumentalness</th>\n",
       "      <th>liveness</th>\n",
       "      <th>valence</th>\n",
       "      <th>tempo</th>\n",
       "      <th>duration_ms</th>\n",
       "      <th>time_signature</th>\n",
       "      <th>speechiness</th>\n",
       "    </tr>\n",
       "  </thead>\n",
       "  <tbody>\n",
       "    <tr>\n",
       "      <th>0</th>\n",
       "      <td>-0.718752</td>\n",
       "      <td>-0.206895</td>\n",
       "      <td>-0.345831</td>\n",
       "      <td>0.310310</td>\n",
       "      <td>-1.104172</td>\n",
       "      <td>2.379648</td>\n",
       "      <td>-0.209723</td>\n",
       "      <td>-0.503510</td>\n",
       "      <td>-0.346683</td>\n",
       "      <td>0.253971</td>\n",
       "      <td>0.663310</td>\n",
       "      <td>0.086663</td>\n",
       "      <td>-0.577251</td>\n",
       "    </tr>\n",
       "    <tr>\n",
       "      <th>1</th>\n",
       "      <td>0.766828</td>\n",
       "      <td>0.725971</td>\n",
       "      <td>0.479519</td>\n",
       "      <td>0.597307</td>\n",
       "      <td>-1.104172</td>\n",
       "      <td>0.119914</td>\n",
       "      <td>-0.209723</td>\n",
       "      <td>3.543568</td>\n",
       "      <td>0.477965</td>\n",
       "      <td>0.292367</td>\n",
       "      <td>0.002162</td>\n",
       "      <td>0.086663</td>\n",
       "      <td>-0.566912</td>\n",
       "    </tr>\n",
       "    <tr>\n",
       "      <th>2</th>\n",
       "      <td>-0.777587</td>\n",
       "      <td>-0.834785</td>\n",
       "      <td>0.204402</td>\n",
       "      <td>-1.360922</td>\n",
       "      <td>0.905656</td>\n",
       "      <td>1.073472</td>\n",
       "      <td>-0.209662</td>\n",
       "      <td>-0.552951</td>\n",
       "      <td>0.456033</td>\n",
       "      <td>-1.642748</td>\n",
       "      <td>-0.764019</td>\n",
       "      <td>0.086663</td>\n",
       "      <td>-0.065457</td>\n",
       "    </tr>\n",
       "    <tr>\n",
       "      <th>3</th>\n",
       "      <td>0.112290</td>\n",
       "      <td>0.098081</td>\n",
       "      <td>1.029752</td>\n",
       "      <td>-0.150249</td>\n",
       "      <td>0.905656</td>\n",
       "      <td>-0.394113</td>\n",
       "      <td>-0.209723</td>\n",
       "      <td>0.591249</td>\n",
       "      <td>0.241098</td>\n",
       "      <td>0.197130</td>\n",
       "      <td>0.022070</td>\n",
       "      <td>0.086663</td>\n",
       "      <td>-0.636185</td>\n",
       "    </tr>\n",
       "    <tr>\n",
       "      <th>4</th>\n",
       "      <td>0.840372</td>\n",
       "      <td>0.749891</td>\n",
       "      <td>1.304869</td>\n",
       "      <td>0.059135</td>\n",
       "      <td>-1.104172</td>\n",
       "      <td>0.641391</td>\n",
       "      <td>-0.209723</td>\n",
       "      <td>1.537686</td>\n",
       "      <td>1.061360</td>\n",
       "      <td>-0.834703</td>\n",
       "      <td>0.113925</td>\n",
       "      <td>0.086663</td>\n",
       "      <td>-0.326007</td>\n",
       "    </tr>\n",
       "  </tbody>\n",
       "</table>\n",
       "</div>"
      ],
      "text/plain": [
       "   danceability    energy       key  loudness      mode  acousticness  \\\n",
       "0     -0.718752 -0.206895 -0.345831  0.310310 -1.104172      2.379648   \n",
       "1      0.766828  0.725971  0.479519  0.597307 -1.104172      0.119914   \n",
       "2     -0.777587 -0.834785  0.204402 -1.360922  0.905656      1.073472   \n",
       "3      0.112290  0.098081  1.029752 -0.150249  0.905656     -0.394113   \n",
       "4      0.840372  0.749891  1.304869  0.059135 -1.104172      0.641391   \n",
       "\n",
       "   instrumentalness  liveness   valence     tempo  duration_ms  \\\n",
       "0         -0.209723 -0.503510 -0.346683  0.253971     0.663310   \n",
       "1         -0.209723  3.543568  0.477965  0.292367     0.002162   \n",
       "2         -0.209662 -0.552951  0.456033 -1.642748    -0.764019   \n",
       "3         -0.209723  0.591249  0.241098  0.197130     0.022070   \n",
       "4         -0.209723  1.537686  1.061360 -0.834703     0.113925   \n",
       "\n",
       "   time_signature  speechiness  \n",
       "0        0.086663    -0.577251  \n",
       "1        0.086663    -0.566912  \n",
       "2        0.086663    -0.065457  \n",
       "3        0.086663    -0.636185  \n",
       "4        0.086663    -0.326007  "
      ]
     },
     "metadata": {},
     "output_type": "display_data"
    }
   ],
   "source": [
    "# Normalization\n",
    "scaler = StandardScaler()\n",
    "scaler.fit(df_dtypes)\n",
    "global X_scaled\n",
    "X_scaled = scaler.transform(df_dtypes)\n",
    "global X_scaled_df \n",
    "X_scaled_df = pd.DataFrame(X_scaled, columns = df_dtypes.columns)\n",
    "#display(df.head())\n",
    "#print()\n",
    "display(X_scaled_df.head()) # normalized dataframe\n"
   ]
  },
  {
   "cell_type": "markdown",
   "metadata": {
    "slideshow": {
     "slide_type": "slide"
    }
   },
   "source": [
    "## Clustering"
   ]
  },
  {
   "cell_type": "code",
   "execution_count": 4,
   "metadata": {
    "slideshow": {
     "slide_type": "subslide"
    }
   },
   "outputs": [
    {
     "data": {
      "text/plain": [
       "KMeans(random_state=1234)"
      ]
     },
     "execution_count": 4,
     "metadata": {},
     "output_type": "execute_result"
    }
   ],
   "source": [
    "kmeans = KMeans(random_state=1234)\n",
    "kmeans.fit(X_scaled_df)"
   ]
  },
  {
   "cell_type": "code",
   "execution_count": 5,
   "metadata": {},
   "outputs": [
    {
     "data": {
      "image/png": "[encoded data removed]",
      "text/plain": [
       "<Figure size 432x288 with 1 Axes>"
      ]
     },
     "metadata": {
      "needs_background": "light"
     },
     "output_type": "display_data"
    }
   ],
   "source": [
    "# assign a cluster to each example\n",
    "labels = kmeans.predict(X_scaled_df)\n",
    "# retrieve unique clusters\n",
    "clusters = np.unique(labels)\n",
    "# create scatter plot for samples from each cluster\n",
    "for cluster in clusters:\n",
    "    # get row indexes for samples with this cluster\n",
    "    row_ix = np.where(labels == cluster)\n",
    "    # create scatter of these samples\n",
    "    pyplot.scatter(df_dtypes.to_numpy()[row_ix, 1], df_dtypes.to_numpy()[row_ix, 2])\n",
    "    # show the plot\n",
    "pyplot.show()"
   ]
  },
  {
   "cell_type": "code",
   "execution_count": 6,
   "metadata": {},
   "outputs": [
    {
     "data": {
      "text/plain": [
       "0     965\n",
       "1    1239\n",
       "2     549\n",
       "3    1326\n",
       "4     142\n",
       "5     498\n",
       "6     444\n",
       "7     132\n",
       "dtype: int64"
      ]
     },
     "execution_count": 6,
     "metadata": {},
     "output_type": "execute_result"
    }
   ],
   "source": [
    "#number of observations\n",
    "clusters = kmeans.predict(X_scaled_df)\n",
    "#clusters\n",
    "pd.Series(clusters).value_counts().sort_index()"
   ]
  },
  {
   "cell_type": "code",
   "execution_count": 7,
   "metadata": {
    "scrolled": true
   },
   "outputs": [
    {
     "data": {
      "text/html": [
       "<div>\n",
       "<style scoped>\n",
       "    .dataframe tbody tr th:only-of-type {\n",
       "        vertical-align: middle;\n",
       "    }\n",
       "\n",
       "    .dataframe tbody tr th {\n",
       "        vertical-align: top;\n",
       "    }\n",
       "\n",
       "    .dataframe thead th {\n",
       "        text-align: right;\n",
       "    }\n",
       "</style>\n",
       "<table border=\"1\" class=\"dataframe\">\n",
       "  <thead>\n",
       "    <tr style=\"text-align: right;\">\n",
       "      <th></th>\n",
       "      <th>danceability</th>\n",
       "      <th>energy</th>\n",
       "      <th>key</th>\n",
       "      <th>loudness</th>\n",
       "      <th>mode</th>\n",
       "      <th>acousticness</th>\n",
       "      <th>instrumentalness</th>\n",
       "      <th>liveness</th>\n",
       "      <th>valence</th>\n",
       "      <th>tempo</th>\n",
       "      <th>duration_ms</th>\n",
       "      <th>time_signature</th>\n",
       "      <th>speechiness</th>\n",
       "      <th>cluster</th>\n",
       "    </tr>\n",
       "  </thead>\n",
       "  <tbody>\n",
       "    <tr>\n",
       "      <th>0</th>\n",
       "      <td>0.566</td>\n",
       "      <td>0.664</td>\n",
       "      <td>4</td>\n",
       "      <td>-5.303</td>\n",
       "      <td>0</td>\n",
       "      <td>0.63400</td>\n",
       "      <td>0.000000</td>\n",
       "      <td>0.116</td>\n",
       "      <td>0.437</td>\n",
       "      <td>128.945</td>\n",
       "      <td>241688</td>\n",
       "      <td>4</td>\n",
       "      <td>0.0464</td>\n",
       "      <td>6</td>\n",
       "    </tr>\n",
       "    <tr>\n",
       "      <th>1</th>\n",
       "      <td>0.768</td>\n",
       "      <td>0.820</td>\n",
       "      <td>7</td>\n",
       "      <td>-4.630</td>\n",
       "      <td>0</td>\n",
       "      <td>0.17900</td>\n",
       "      <td>0.000000</td>\n",
       "      <td>0.689</td>\n",
       "      <td>0.625</td>\n",
       "      <td>129.965</td>\n",
       "      <td>213293</td>\n",
       "      <td>4</td>\n",
       "      <td>0.0474</td>\n",
       "      <td>5</td>\n",
       "    </tr>\n",
       "    <tr>\n",
       "      <th>2</th>\n",
       "      <td>0.558</td>\n",
       "      <td>0.559</td>\n",
       "      <td>6</td>\n",
       "      <td>-9.222</td>\n",
       "      <td>1</td>\n",
       "      <td>0.37100</td>\n",
       "      <td>0.000007</td>\n",
       "      <td>0.109</td>\n",
       "      <td>0.620</td>\n",
       "      <td>78.558</td>\n",
       "      <td>180387</td>\n",
       "      <td>4</td>\n",
       "      <td>0.0959</td>\n",
       "      <td>6</td>\n",
       "    </tr>\n",
       "    <tr>\n",
       "      <th>3</th>\n",
       "      <td>0.679</td>\n",
       "      <td>0.715</td>\n",
       "      <td>9</td>\n",
       "      <td>-6.383</td>\n",
       "      <td>1</td>\n",
       "      <td>0.07550</td>\n",
       "      <td>0.000000</td>\n",
       "      <td>0.271</td>\n",
       "      <td>0.571</td>\n",
       "      <td>127.435</td>\n",
       "      <td>214148</td>\n",
       "      <td>4</td>\n",
       "      <td>0.0407</td>\n",
       "      <td>1</td>\n",
       "    </tr>\n",
       "    <tr>\n",
       "      <th>4</th>\n",
       "      <td>0.778</td>\n",
       "      <td>0.824</td>\n",
       "      <td>10</td>\n",
       "      <td>-5.892</td>\n",
       "      <td>0</td>\n",
       "      <td>0.28400</td>\n",
       "      <td>0.000000</td>\n",
       "      <td>0.405</td>\n",
       "      <td>0.758</td>\n",
       "      <td>100.024</td>\n",
       "      <td>218093</td>\n",
       "      <td>4</td>\n",
       "      <td>0.0707</td>\n",
       "      <td>3</td>\n",
       "    </tr>\n",
       "    <tr>\n",
       "      <th>...</th>\n",
       "      <td>...</td>\n",
       "      <td>...</td>\n",
       "      <td>...</td>\n",
       "      <td>...</td>\n",
       "      <td>...</td>\n",
       "      <td>...</td>\n",
       "      <td>...</td>\n",
       "      <td>...</td>\n",
       "      <td>...</td>\n",
       "      <td>...</td>\n",
       "      <td>...</td>\n",
       "      <td>...</td>\n",
       "      <td>...</td>\n",
       "      <td>...</td>\n",
       "    </tr>\n",
       "    <tr>\n",
       "      <th>5290</th>\n",
       "      <td>0.609</td>\n",
       "      <td>0.679</td>\n",
       "      <td>0</td>\n",
       "      <td>-4.545</td>\n",
       "      <td>1</td>\n",
       "      <td>0.24300</td>\n",
       "      <td>0.000000</td>\n",
       "      <td>0.199</td>\n",
       "      <td>0.487</td>\n",
       "      <td>122.034</td>\n",
       "      <td>215960</td>\n",
       "      <td>4</td>\n",
       "      <td>0.0312</td>\n",
       "      <td>1</td>\n",
       "    </tr>\n",
       "    <tr>\n",
       "      <th>5291</th>\n",
       "      <td>0.439</td>\n",
       "      <td>0.610</td>\n",
       "      <td>9</td>\n",
       "      <td>-7.236</td>\n",
       "      <td>1</td>\n",
       "      <td>0.59300</td>\n",
       "      <td>0.000011</td>\n",
       "      <td>0.341</td>\n",
       "      <td>0.172</td>\n",
       "      <td>181.088</td>\n",
       "      <td>215508</td>\n",
       "      <td>4</td>\n",
       "      <td>0.1160</td>\n",
       "      <td>6</td>\n",
       "    </tr>\n",
       "    <tr>\n",
       "      <th>5292</th>\n",
       "      <td>0.897</td>\n",
       "      <td>0.371</td>\n",
       "      <td>1</td>\n",
       "      <td>-5.019</td>\n",
       "      <td>1</td>\n",
       "      <td>0.09040</td>\n",
       "      <td>0.000000</td>\n",
       "      <td>0.325</td>\n",
       "      <td>0.441</td>\n",
       "      <td>81.008</td>\n",
       "      <td>156005</td>\n",
       "      <td>4</td>\n",
       "      <td>0.3680</td>\n",
       "      <td>2</td>\n",
       "    </tr>\n",
       "    <tr>\n",
       "      <th>5293</th>\n",
       "      <td>0.964</td>\n",
       "      <td>0.398</td>\n",
       "      <td>11</td>\n",
       "      <td>-8.981</td>\n",
       "      <td>0</td>\n",
       "      <td>0.00151</td>\n",
       "      <td>0.000039</td>\n",
       "      <td>0.101</td>\n",
       "      <td>0.563</td>\n",
       "      <td>105.012</td>\n",
       "      <td>178405</td>\n",
       "      <td>4</td>\n",
       "      <td>0.0795</td>\n",
       "      <td>3</td>\n",
       "    </tr>\n",
       "    <tr>\n",
       "      <th>5294</th>\n",
       "      <td>0.653</td>\n",
       "      <td>0.524</td>\n",
       "      <td>11</td>\n",
       "      <td>-9.016</td>\n",
       "      <td>0</td>\n",
       "      <td>0.11200</td>\n",
       "      <td>0.000000</td>\n",
       "      <td>0.203</td>\n",
       "      <td>0.553</td>\n",
       "      <td>83.970</td>\n",
       "      <td>160191</td>\n",
       "      <td>4</td>\n",
       "      <td>0.0502</td>\n",
       "      <td>3</td>\n",
       "    </tr>\n",
       "  </tbody>\n",
       "</table>\n",
       "<p>5295 rows × 14 columns</p>\n",
       "</div>"
      ],
      "text/plain": [
       "      danceability  energy  key  loudness  mode  acousticness  \\\n",
       "0            0.566   0.664    4    -5.303     0       0.63400   \n",
       "1            0.768   0.820    7    -4.630     0       0.17900   \n",
       "2            0.558   0.559    6    -9.222     1       0.37100   \n",
       "3            0.679   0.715    9    -6.383     1       0.07550   \n",
       "4            0.778   0.824   10    -5.892     0       0.28400   \n",
       "...            ...     ...  ...       ...   ...           ...   \n",
       "5290         0.609   0.679    0    -4.545     1       0.24300   \n",
       "5291         0.439   0.610    9    -7.236     1       0.59300   \n",
       "5292         0.897   0.371    1    -5.019     1       0.09040   \n",
       "5293         0.964   0.398   11    -8.981     0       0.00151   \n",
       "5294         0.653   0.524   11    -9.016     0       0.11200   \n",
       "\n",
       "      instrumentalness  liveness  valence    tempo  duration_ms  \\\n",
       "0             0.000000     0.116    0.437  128.945       241688   \n",
       "1             0.000000     0.689    0.625  129.965       213293   \n",
       "2             0.000007     0.109    0.620   78.558       180387   \n",
       "3             0.000000     0.271    0.571  127.435       214148   \n",
       "4             0.000000     0.405    0.758  100.024       218093   \n",
       "...                ...       ...      ...      ...          ...   \n",
       "5290          0.000000     0.199    0.487  122.034       215960   \n",
       "5291          0.000011     0.341    0.172  181.088       215508   \n",
       "5292          0.000000     0.325    0.441   81.008       156005   \n",
       "5293          0.000039     0.101    0.563  105.012       178405   \n",
       "5294          0.000000     0.203    0.553   83.970       160191   \n",
       "\n",
       "      time_signature  speechiness  cluster  \n",
       "0                  4       0.0464        6  \n",
       "1                  4       0.0474        5  \n",
       "2                  4       0.0959        6  \n",
       "3                  4       0.0407        1  \n",
       "4                  4       0.0707        3  \n",
       "...              ...          ...      ...  \n",
       "5290               4       0.0312        1  \n",
       "5291               4       0.1160        6  \n",
       "5292               4       0.3680        2  \n",
       "5293               4       0.0795        3  \n",
       "5294               4       0.0502        3  \n",
       "\n",
       "[5295 rows x 14 columns]"
      ]
     },
     "execution_count": 7,
     "metadata": {},
     "output_type": "execute_result"
    }
   ],
   "source": [
    "df = pd.DataFrame(df)\n",
    "df[\"cluster\"] = clusters\n",
    "df.head()\n",
    "df_dtypes[\"cluster\"] = clusters\n",
    "df_dtypes\n",
    "#df.head()"
   ]
  },
  {
   "cell_type": "code",
   "execution_count": 8,
   "metadata": {},
   "outputs": [
    {
     "data": {
      "text/html": [
       "<div>\n",
       "<style scoped>\n",
       "    .dataframe tbody tr th:only-of-type {\n",
       "        vertical-align: middle;\n",
       "    }\n",
       "\n",
       "    .dataframe tbody tr th {\n",
       "        vertical-align: top;\n",
       "    }\n",
       "\n",
       "    .dataframe thead th {\n",
       "        text-align: right;\n",
       "    }\n",
       "</style>\n",
       "<table border=\"1\" class=\"dataframe\">\n",
       "  <thead>\n",
       "    <tr style=\"text-align: right;\">\n",
       "      <th></th>\n",
       "      <th>id</th>\n",
       "      <th>title</th>\n",
       "      <th>all_artists</th>\n",
       "      <th>release_date</th>\n",
       "      <th>danceability</th>\n",
       "      <th>energy</th>\n",
       "      <th>key</th>\n",
       "      <th>loudness</th>\n",
       "      <th>mode</th>\n",
       "      <th>acousticness</th>\n",
       "      <th>instrumentalness</th>\n",
       "      <th>liveness</th>\n",
       "      <th>valence</th>\n",
       "      <th>tempo</th>\n",
       "      <th>duration_ms</th>\n",
       "      <th>time_signature</th>\n",
       "      <th>speechiness</th>\n",
       "      <th>cluster</th>\n",
       "    </tr>\n",
       "  </thead>\n",
       "  <tbody>\n",
       "    <tr>\n",
       "      <th>5131</th>\n",
       "      <td>4kxOMXF9aVjztdBVM12gbn</td>\n",
       "      <td>Venus</td>\n",
       "      <td>Bananarama</td>\n",
       "      <td>2001-10-29</td>\n",
       "      <td>0.722</td>\n",
       "      <td>0.961</td>\n",
       "      <td>9</td>\n",
       "      <td>-4.812</td>\n",
       "      <td>1</td>\n",
       "      <td>0.0883</td>\n",
       "      <td>0.61</td>\n",
       "      <td>0.278</td>\n",
       "      <td>0.91</td>\n",
       "      <td>126.113</td>\n",
       "      <td>229165</td>\n",
       "      <td>4</td>\n",
       "      <td>0.0514</td>\n",
       "      <td>4</td>\n",
       "    </tr>\n",
       "  </tbody>\n",
       "</table>\n",
       "</div>"
      ],
      "text/plain": [
       "                          id  title all_artists release_date  danceability  \\\n",
       "5131  4kxOMXF9aVjztdBVM12gbn  Venus  Bananarama   2001-10-29         0.722   \n",
       "\n",
       "      energy  key  loudness  mode  acousticness  instrumentalness  liveness  \\\n",
       "5131   0.961    9    -4.812     1        0.0883              0.61     0.278   \n",
       "\n",
       "      valence    tempo  duration_ms  time_signature  speechiness  cluster  \n",
       "5131     0.91  126.113       229165               4       0.0514        4  "
      ]
     },
     "execution_count": 8,
     "metadata": {},
     "output_type": "execute_result"
    }
   ],
   "source": [
    "# retrieving a random song to test the code\n",
    "df[df['cluster'] == 4].sample()"
   ]
  },
  {
   "cell_type": "code",
   "execution_count": 14,
   "metadata": {},
   "outputs": [
    {
     "name": "stdout",
     "output_type": "stream",
     "text": [
      "Training a K-Means model with 2 neighbours! \n",
      "\n",
      "Training a K-Means model with 3 neighbours! \n",
      "\n",
      "Training a K-Means model with 4 neighbours! \n",
      "\n",
      "Training a K-Means model with 5 neighbours! \n",
      "\n",
      "Training a K-Means model with 6 neighbours! \n",
      "\n",
      "Training a K-Means model with 7 neighbours! \n",
      "\n",
      "Training a K-Means model with 8 neighbours! \n",
      "\n",
      "Training a K-Means model with 9 neighbours! \n",
      "\n",
      "Training a K-Means model with 10 neighbours! \n",
      "\n",
      "Training a K-Means model with 11 neighbours! \n",
      "\n",
      "Training a K-Means model with 12 neighbours! \n",
      "\n",
      "Training a K-Means model with 13 neighbours! \n",
      "\n",
      "Training a K-Means model with 14 neighbours! \n",
      "\n",
      "Training a K-Means model with 15 neighbours! \n",
      "\n",
      "Training a K-Means model with 16 neighbours! \n",
      "\n",
      "Training a K-Means model with 17 neighbours! \n",
      "\n",
      "Training a K-Means model with 18 neighbours! \n",
      "\n",
      "Training a K-Means model with 19 neighbours! \n",
      "\n",
      "Training a K-Means model with 20 neighbours! \n",
      "\n",
      "Training a K-Means model with 21 neighbours! \n",
      "\n"
     ]
    },
    {
     "data": {
      "text/plain": [
       "Text(0.5, 1.0, 'Elbow Method showing the optimal k')"
      ]
     },
     "execution_count": 14,
     "metadata": {},
     "output_type": "execute_result"
    },
    {
     "data": {
      "image/png": "[encoded data removed]",
      "text/plain": [
       "<Figure size 1152x576 with 1 Axes>"
      ]
     },
     "metadata": {
      "needs_background": "light"
     },
     "output_type": "display_data"
    }
   ],
   "source": [
    "K = range(2,22)\n",
    "inertia = []\n",
    "\n",
    "for k in K:\n",
    "    print(\"Training a K-Means model with {} neighbours! \".format(k))\n",
    "    print()\n",
    "    kmeans = KMeans(n_clusters=k,\n",
    "                    random_state=1234)\n",
    "    kmeans.fit(X_scaled_df)\n",
    "    inertia.append(kmeans.inertia_)\n",
    "\n",
    "\n",
    "plt.figure(figsize=(16,8))\n",
    "plt.plot(K, inertia, 'bx-')\n",
    "plt.xlabel('k')\n",
    "plt.ylabel('inertia')\n",
    "plt.xticks(np.arange(min(K), max(K)+1, 1.0))\n",
    "plt.title('Elbow Method showing the optimal k')"
   ]
  },
  {
   "cell_type": "markdown",
   "metadata": {},
   "source": [
    "## Saving with pickle"
   ]
  },
  {
   "cell_type": "code",
   "execution_count": 10,
   "metadata": {},
   "outputs": [
    {
     "data": {
      "text/plain": [
       "StandardScaler()"
      ]
     },
     "execution_count": 10,
     "metadata": {},
     "output_type": "execute_result"
    }
   ],
   "source": [
    "import pickle\n",
    "\n",
    "#scaler = StandardScaler()\n",
    "#model = KMeans()\n",
    "\n",
    "with open(\"scaler.pickle\", \"wb\") as f:\n",
    "    pickle.dump(scaler,f)\n",
    "\n",
    "with open(\"kmeans_4.pickle\", \"wb\") as f:\n",
    "    pickle.dump(kmeans,f)\n",
    "\n",
    "\n",
    "def load(filename = \"filename.pickle\"): \n",
    "    try: \n",
    "        with open(filename, \"rb\") as f: \n",
    "            return pickle.load(f) \n",
    "    except FileNotFoundError: \n",
    "        print(\"File not found!\") \n",
    "\n",
    "\n",
    "scaler2 = load(\"scaler.pickle\")\n",
    "scaler2"
   ]
  },
  {
   "cell_type": "markdown",
   "metadata": {},
   "source": [
    "## Using function from Hot 100"
   ]
  },
  {
   "cell_type": "code",
   "execution_count": 11,
   "metadata": {},
   "outputs": [],
   "source": [
    "from hot_songs_func import hot_songs\n",
    "import json\n",
    "import spotipy\n",
    "import pandas as pd\n",
    "from spotipy.oauth2 import SpotifyClientCredentials\n",
    "import config\n",
    "import csv\n",
    "import random\n",
    "import warnings\n",
    "warnings.filterwarnings(\"ignore\")\n",
    "from IPython.display import IFrame\n",
    "import webbrowser"
   ]
  },
  {
   "cell_type": "code",
   "execution_count": 12,
   "metadata": {},
   "outputs": [],
   "source": [
    "client_credentials_manager = SpotifyClientCredentials(client_id=config.client_id, client_secret=config.client_secret)\n",
    "sp = spotipy.Spotify(client_credentials_manager=client_credentials_manager)"
   ]
  },
  {
   "cell_type": "code",
   "execution_count": 19,
   "metadata": {},
   "outputs": [
    {
     "name": "stdout",
     "output_type": "stream",
     "text": [
      "Insert the name of a song: Call Me Maybe\n"
     ]
    },
    {
     "ename": "ValueError",
     "evalue": "a must be greater than 0 unless no samples are taken",
     "output_type": "error",
     "traceback": [
      "\u001b[0;31m---------------------------------------------------------------------------\u001b[0m",
      "\u001b[0;31mValueError\u001b[0m                                Traceback (most recent call last)",
      "\u001b[0;32m/var/folders/6h/fzl81hw55yj1kpvb9rwhd7wr0000gn/T/ipykernel_10995/721323232.py\u001b[0m in \u001b[0;36m<module>\u001b[0;34m\u001b[0m\n\u001b[1;32m     37\u001b[0m     \u001b[0;31m#recommender\u001b[0m\u001b[0;34m\u001b[0m\u001b[0;34m\u001b[0m\u001b[0;34m\u001b[0m\u001b[0m\n\u001b[1;32m     38\u001b[0m     \u001b[0mcluster_random\u001b[0m \u001b[0;34m=\u001b[0m \u001b[0mpd\u001b[0m\u001b[0;34m.\u001b[0m\u001b[0mDataFrame\u001b[0m\u001b[0;34m(\u001b[0m\u001b[0mdf\u001b[0m\u001b[0;34m.\u001b[0m\u001b[0mloc\u001b[0m\u001b[0;34m[\u001b[0m\u001b[0mdf\u001b[0m\u001b[0;34m[\u001b[0m\u001b[0;34m'cluster'\u001b[0m\u001b[0;34m]\u001b[0m \u001b[0;34m==\u001b[0m \u001b[0mint\u001b[0m\u001b[0;34m(\u001b[0m\u001b[0mcluster_number\u001b[0m\u001b[0;34m)\u001b[0m\u001b[0;34m]\u001b[0m\u001b[0;34m)\u001b[0m\u001b[0;34m\u001b[0m\u001b[0;34m\u001b[0m\u001b[0m\n\u001b[0;32m---> 39\u001b[0;31m     \u001b[0mcluster_final\u001b[0m \u001b[0;34m=\u001b[0m \u001b[0mpd\u001b[0m\u001b[0;34m.\u001b[0m\u001b[0mDataFrame\u001b[0m\u001b[0;34m(\u001b[0m\u001b[0mcluster_random\u001b[0m\u001b[0;34m.\u001b[0m\u001b[0msample\u001b[0m\u001b[0;34m(\u001b[0m\u001b[0;34m)\u001b[0m\u001b[0;34m)\u001b[0m\u001b[0;34m\u001b[0m\u001b[0;34m\u001b[0m\u001b[0m\n\u001b[0m\u001b[1;32m     40\u001b[0m     \u001b[0mtrack_id\u001b[0m \u001b[0;34m=\u001b[0m \u001b[0mcluster_final\u001b[0m\u001b[0;34m[\u001b[0m\u001b[0;34m'id'\u001b[0m\u001b[0;34m]\u001b[0m\u001b[0;34m.\u001b[0m\u001b[0mitem\u001b[0m\u001b[0;34m(\u001b[0m\u001b[0;34m)\u001b[0m\u001b[0;34m\u001b[0m\u001b[0;34m\u001b[0m\u001b[0m\n\u001b[1;32m     41\u001b[0m     \u001b[0mprint\u001b[0m\u001b[0;34m(\u001b[0m\u001b[0;34m'Unfortunately the song is not in the hot list.'\u001b[0m\u001b[0;34m)\u001b[0m\u001b[0;34m\u001b[0m\u001b[0;34m\u001b[0m\u001b[0m\n",
      "\u001b[0;32m~/opt/anaconda3/envs/DA_environment/lib/python3.9/site-packages/pandas/core/generic.py\u001b[0m in \u001b[0;36msample\u001b[0;34m(self, n, frac, replace, weights, random_state, axis, ignore_index)\u001b[0m\n\u001b[1;32m   5363\u001b[0m             )\n\u001b[1;32m   5364\u001b[0m \u001b[0;34m\u001b[0m\u001b[0m\n\u001b[0;32m-> 5365\u001b[0;31m         \u001b[0mlocs\u001b[0m \u001b[0;34m=\u001b[0m \u001b[0mrs\u001b[0m\u001b[0;34m.\u001b[0m\u001b[0mchoice\u001b[0m\u001b[0;34m(\u001b[0m\u001b[0maxis_length\u001b[0m\u001b[0;34m,\u001b[0m \u001b[0msize\u001b[0m\u001b[0;34m=\u001b[0m\u001b[0mn\u001b[0m\u001b[0;34m,\u001b[0m \u001b[0mreplace\u001b[0m\u001b[0;34m=\u001b[0m\u001b[0mreplace\u001b[0m\u001b[0;34m,\u001b[0m \u001b[0mp\u001b[0m\u001b[0;34m=\u001b[0m\u001b[0mweights\u001b[0m\u001b[0;34m)\u001b[0m\u001b[0;34m\u001b[0m\u001b[0;34m\u001b[0m\u001b[0m\n\u001b[0m\u001b[1;32m   5366\u001b[0m         \u001b[0mresult\u001b[0m \u001b[0;34m=\u001b[0m \u001b[0mself\u001b[0m\u001b[0;34m.\u001b[0m\u001b[0mtake\u001b[0m\u001b[0;34m(\u001b[0m\u001b[0mlocs\u001b[0m\u001b[0;34m,\u001b[0m \u001b[0maxis\u001b[0m\u001b[0;34m=\u001b[0m\u001b[0maxis\u001b[0m\u001b[0;34m)\u001b[0m\u001b[0;34m\u001b[0m\u001b[0;34m\u001b[0m\u001b[0m\n\u001b[1;32m   5367\u001b[0m         \u001b[0;32mif\u001b[0m \u001b[0mignore_index\u001b[0m\u001b[0;34m:\u001b[0m\u001b[0;34m\u001b[0m\u001b[0;34m\u001b[0m\u001b[0m\n",
      "\u001b[0;32mmtrand.pyx\u001b[0m in \u001b[0;36mnumpy.random.mtrand.RandomState.choice\u001b[0;34m()\u001b[0m\n",
      "\u001b[0;31mValueError\u001b[0m: a must be greater than 0 unless no samples are taken"
     ]
    }
   ],
   "source": [
    "\n",
    "hot_df = pd.read_csv('billboard_hot200.csv')\n",
    "\n",
    "\n",
    "inp = input('Insert the name of a song: ')  # Get the input\n",
    "\n",
    "artist = hot_df['artist'].str.contains(inp, case=False).any()\n",
    "title = hot_df['title'].str.contains(inp, case=False).any()\n",
    "ran = random.randint(0, 199)\n",
    "\n",
    "\n",
    "if artist or title:\n",
    "    for i in hot_df.index:\n",
    "        if i == ran:\n",
    "            print('That`s a hot song! You should try this one:', hot_df.artist[i] + ' - ' +hot_df.title[i])\n",
    "            \n",
    "\n",
    "else:\n",
    "    hot_inp = sp.search('input')\n",
    "    audio_features = sp.audio_features(hot_inp[\"tracks\"][\"items\"][0][\"uri\"])[0]\n",
    "    track_features = { key: [audio_features[key]] for key in list(audio_features.keys()) }\n",
    "    track_df = pd.DataFrame(track_features)\n",
    "\n",
    "    # transforming it in a dataframe\n",
    "    track_dtype = track_df.select_dtypes(include=['float64', 'int'])\n",
    "    track_dtype_df = pd.DataFrame(track_dtype)\n",
    "    #track_dtype_df['cluster'] = cluster\n",
    "\n",
    "    #normalizing\n",
    "    audio_scaled = scaler.transform(track_dtype_df)\n",
    "    audio_scaled_df = pd.DataFrame(audio_scaled, columns = track_dtype_df.columns)\n",
    "\n",
    "\n",
    "    # clustering the song\n",
    "    cluster_number = kmeans.predict(audio_scaled_df) \n",
    "\n",
    "\n",
    "    #recommender\n",
    "    cluster_random = pd.DataFrame(df.loc[df['cluster'] == int(cluster_number)])\n",
    "    cluster_final = pd.DataFrame(cluster_random.sample())\n",
    "    track_id = cluster_final['id'].item()\n",
    "    print('Unfortunately the song is not in the hot list.') \n",
    "    print('You should try this one: ' + cluster_final['all_artists'].item() + ' - ' +  cluster_final['title'].item())\n",
    "    \n",
    "    IFrame(src=f\"https://open.spotify.com/embed/track/{track_id}\",\n",
    "        width=\"500\",\n",
    "        height=\"100\",\n",
    "        frameborder=\"0\",\n",
    "        allowtransparency=\"true\",\n",
    "        allow=\"encrypted-media\",\n",
    "        )"
   ]
  },
  {
   "cell_type": "code",
   "execution_count": null,
   "metadata": {},
   "outputs": [],
   "source": []
  }
 ],
 "metadata": {
  "interpreter": {
   "hash": "31f2aee4e71d21fbe5cf8b01ff0e069b9275f58929596ceb00d14d90e3e16cd6"
  },
  "kernelspec": {
   "display_name": "Python 3 (ipykernel)",
   "language": "python",
   "name": "python3"
  },
  "language_info": {
   "codemirror_mode": {
    "name": "ipython",
    "version": 3
   },
   "file_extension": ".py",
   "mimetype": "text/x-python",
   "name": "python",
   "nbconvert_exporter": "python",
   "pygments_lexer": "ipython3",
   "version": "3.9.6"
  }
 },
 "nbformat": 4,
 "nbformat_minor": 2
}
