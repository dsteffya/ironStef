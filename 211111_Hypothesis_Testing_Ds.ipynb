{
 "cells": [
  {
   "cell_type": "markdown",
   "id": "69080479",
   "metadata": {},
   "source": [
    "It is assumed that the mean systolic blood pressure is μ = 120 mm Hg. In the Honolulu Heart Study, a sample of n = 100 people had an average systolic blood pressure of 130.1 mm Hg with a standard deviation of 21.21 mm Hg. Is the group significantly different (with respect to systolic blood pressure!) from the regular population?\n",
    "\n",
    "Set up the hypothesis test.\n",
    "Write down all the steps followed for setting up the test.\n",
    "Calculate the test statistic by hand and also code it in Python. It should be 4.76190. What decision can you make based on this calculated value?m"
   ]
  },
  {
   "cell_type": "code",
   "execution_count": 11,
   "id": "d83d1323",
   "metadata": {},
   "outputs": [],
   "source": [
    "import scipy.stats as stats\n",
    "import math"
   ]
  },
  {
   "cell_type": "code",
   "execution_count": 14,
   "id": "b3939b3d",
   "metadata": {},
   "outputs": [
    {
     "data": {
      "text/plain": [
       "4.761904761904759"
      ]
     },
     "execution_count": 14,
     "metadata": {},
     "output_type": "execute_result"
    }
   ],
   "source": [
    "# H0: mean=120 mmHg\n",
    "# Ha: mean!=120\n",
    "# mean_sample= 130.1 mmHg\n",
    "# std_sample= 21.21 mmHg\n",
    "\n",
    "# t= (mean_sample)- mean/(std_sample)/sqrt(100))\n",
    "# t= 130.1-120/(21.21/10)= 4.7619047619\n",
    "\n",
    "#confidence level 95% -> alpha= 0.05\n",
    "\n",
    "#reject the null hypothesis at the α= 0.05 level if t ≥ t(1-0.025) or if t ≤ -t(0.025)\n",
    "\n",
    "mean_pop= 120\n",
    "mean_sample=130.1\n",
    "std_sample= 21.21\n",
    "n= 100\n",
    "\n",
    "t= (mean_sample-mean_pop)/(std_sample/math.sqrt(n))\n",
    "t"
   ]
  },
  {
   "cell_type": "code",
   "execution_count": 21,
   "id": "b5c27514",
   "metadata": {},
   "outputs": [
    {
     "data": {
      "text/plain": [
       "1.9842169515086827"
      ]
     },
     "execution_count": 21,
     "metadata": {},
     "output_type": "execute_result"
    }
   ],
   "source": [
    "tc= stats.t.ppf(1-0.025,99)\n",
    "tc"
   ]
  },
  {
   "cell_type": "code",
   "execution_count": 18,
   "id": "0369b551",
   "metadata": {},
   "outputs": [],
   "source": [
    "# we reject the null hypothesis -> so the mean of systolic pressure is not 120 mmHg"
   ]
  },
  {
   "cell_type": "code",
   "execution_count": null,
   "id": "b8904111",
   "metadata": {},
   "outputs": [],
   "source": []
  }
 ],
 "metadata": {
  "kernelspec": {
   "display_name": "Python 3",
   "language": "python",
   "name": "python3"
  },
  "language_info": {
   "codemirror_mode": {
    "name": "ipython",
    "version": 3
   },
   "file_extension": ".py",
   "mimetype": "text/x-python",
   "name": "python",
   "nbconvert_exporter": "python",
   "pygments_lexer": "ipython3",
   "version": "3.8.8"
  }
 },
 "nbformat": 4,
 "nbformat_minor": 5
}
