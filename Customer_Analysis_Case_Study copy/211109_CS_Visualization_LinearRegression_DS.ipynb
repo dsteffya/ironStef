{
 "cells": [
  {
   "cell_type": "code",
   "execution_count": 49,
   "id": "a7e8a807",
   "metadata": {},
   "outputs": [],
   "source": [
    "import pandas as pd\n",
    "import numpy as np\n",
    "import matplotlib.pyplot as plt\n",
    "import seaborn as sns\n",
    "import scipy.stats as stats\n",
    "from sklearn.preprocessing import StandardScaler\n",
    "from sklearn.preprocessing import OneHotEncoder\n",
    "from sklearn.linear_model import LinearRegression\n",
    "from sklearn.model_selection import train_test_split\n",
    "from sklearn.preprocessing import PowerTransformer\n",
    "from sklearn.linear_model import LinearRegression\n",
    "import statsmodels.api as sm\n",
    "from scipy.stats import boxcox\n",
    "from sklearn.model_selection import train_test_split\n",
    "from sklearn.metrics import r2_score\n",
    "from sklearn.metrics import mean_squared_error as mse\n",
    "from sklearn.metrics import mean_absolute_error as mae\n",
    "pd.options.display.max_rows = 50"
   ]
  },
  {
   "cell_type": "code",
   "execution_count": 50,
   "id": "64333894",
   "metadata": {},
   "outputs": [
    {
     "data": {
      "text/html": [
       "<div>\n",
       "<style scoped>\n",
       "    .dataframe tbody tr th:only-of-type {\n",
       "        vertical-align: middle;\n",
       "    }\n",
       "\n",
       "    .dataframe tbody tr th {\n",
       "        vertical-align: top;\n",
       "    }\n",
       "\n",
       "    .dataframe thead th {\n",
       "        text-align: right;\n",
       "    }\n",
       "</style>\n",
       "<table border=\"1\" class=\"dataframe\">\n",
       "  <thead>\n",
       "    <tr style=\"text-align: right;\">\n",
       "      <th></th>\n",
       "      <th>Unnamed: 0</th>\n",
       "      <th>state</th>\n",
       "      <th>customer lifetime value</th>\n",
       "      <th>education</th>\n",
       "      <th>gender</th>\n",
       "      <th>income</th>\n",
       "      <th>monthly premium auto</th>\n",
       "      <th>number of open complaints</th>\n",
       "      <th>policy type</th>\n",
       "      <th>total claim amount</th>\n",
       "      <th>vehicle class</th>\n",
       "      <th>sales channel</th>\n",
       "      <th>response</th>\n",
       "    </tr>\n",
       "  </thead>\n",
       "  <tbody>\n",
       "    <tr>\n",
       "      <th>0</th>\n",
       "      <td>0</td>\n",
       "      <td>Arizona</td>\n",
       "      <td>4809.216960</td>\n",
       "      <td>College</td>\n",
       "      <td>M</td>\n",
       "      <td>48029</td>\n",
       "      <td>61</td>\n",
       "      <td>0.0</td>\n",
       "      <td>Corporate Auto</td>\n",
       "      <td>292.800000</td>\n",
       "      <td>Four-Door Car</td>\n",
       "      <td>Agent</td>\n",
       "      <td>No</td>\n",
       "    </tr>\n",
       "    <tr>\n",
       "      <th>1</th>\n",
       "      <td>1</td>\n",
       "      <td>California</td>\n",
       "      <td>2228.525238</td>\n",
       "      <td>College</td>\n",
       "      <td>F</td>\n",
       "      <td>0</td>\n",
       "      <td>64</td>\n",
       "      <td>0.0</td>\n",
       "      <td>Personal Auto</td>\n",
       "      <td>744.924331</td>\n",
       "      <td>Four-Door Car</td>\n",
       "      <td>Call Center</td>\n",
       "      <td>No</td>\n",
       "    </tr>\n",
       "    <tr>\n",
       "      <th>2</th>\n",
       "      <td>2</td>\n",
       "      <td>Washington</td>\n",
       "      <td>14947.917300</td>\n",
       "      <td>Bachelor</td>\n",
       "      <td>M</td>\n",
       "      <td>22139</td>\n",
       "      <td>100</td>\n",
       "      <td>0.0</td>\n",
       "      <td>Personal Auto</td>\n",
       "      <td>480.000000</td>\n",
       "      <td>SUV</td>\n",
       "      <td>Call Center</td>\n",
       "      <td>No</td>\n",
       "    </tr>\n",
       "    <tr>\n",
       "      <th>3</th>\n",
       "      <td>3</td>\n",
       "      <td>Oregon</td>\n",
       "      <td>22332.439460</td>\n",
       "      <td>College</td>\n",
       "      <td>M</td>\n",
       "      <td>49078</td>\n",
       "      <td>97</td>\n",
       "      <td>0.0</td>\n",
       "      <td>Corporate Auto</td>\n",
       "      <td>484.013411</td>\n",
       "      <td>Four-Door Car</td>\n",
       "      <td>Branch</td>\n",
       "      <td>Yes</td>\n",
       "    </tr>\n",
       "    <tr>\n",
       "      <th>4</th>\n",
       "      <td>4</td>\n",
       "      <td>Oregon</td>\n",
       "      <td>9025.067525</td>\n",
       "      <td>Bachelor</td>\n",
       "      <td>F</td>\n",
       "      <td>23675</td>\n",
       "      <td>117</td>\n",
       "      <td>NaN</td>\n",
       "      <td>Personal Auto</td>\n",
       "      <td>707.925645</td>\n",
       "      <td>Four-Door Car</td>\n",
       "      <td>Branch</td>\n",
       "      <td>No</td>\n",
       "    </tr>\n",
       "    <tr>\n",
       "      <th>...</th>\n",
       "      <td>...</td>\n",
       "      <td>...</td>\n",
       "      <td>...</td>\n",
       "      <td>...</td>\n",
       "      <td>...</td>\n",
       "      <td>...</td>\n",
       "      <td>...</td>\n",
       "      <td>...</td>\n",
       "      <td>...</td>\n",
       "      <td>...</td>\n",
       "      <td>...</td>\n",
       "      <td>...</td>\n",
       "      <td>...</td>\n",
       "    </tr>\n",
       "    <tr>\n",
       "      <th>10905</th>\n",
       "      <td>10905</td>\n",
       "      <td>Nevada</td>\n",
       "      <td>15563.369440</td>\n",
       "      <td>Bachelor</td>\n",
       "      <td>F</td>\n",
       "      <td>0</td>\n",
       "      <td>253</td>\n",
       "      <td>NaN</td>\n",
       "      <td>Personal Auto</td>\n",
       "      <td>1214.400000</td>\n",
       "      <td>Luxury Car</td>\n",
       "      <td>Web</td>\n",
       "      <td>No</td>\n",
       "    </tr>\n",
       "    <tr>\n",
       "      <th>10906</th>\n",
       "      <td>10906</td>\n",
       "      <td>Oregon</td>\n",
       "      <td>5259.444853</td>\n",
       "      <td>College</td>\n",
       "      <td>F</td>\n",
       "      <td>61146</td>\n",
       "      <td>65</td>\n",
       "      <td>0.0</td>\n",
       "      <td>Personal Auto</td>\n",
       "      <td>273.018929</td>\n",
       "      <td>Four-Door Car</td>\n",
       "      <td>Branch</td>\n",
       "      <td>No</td>\n",
       "    </tr>\n",
       "    <tr>\n",
       "      <th>10907</th>\n",
       "      <td>10907</td>\n",
       "      <td>Arizona</td>\n",
       "      <td>23893.304100</td>\n",
       "      <td>Bachelor</td>\n",
       "      <td>F</td>\n",
       "      <td>39837</td>\n",
       "      <td>201</td>\n",
       "      <td>0.0</td>\n",
       "      <td>Corporate Auto</td>\n",
       "      <td>381.306996</td>\n",
       "      <td>Luxury SUV</td>\n",
       "      <td>Web</td>\n",
       "      <td>No</td>\n",
       "    </tr>\n",
       "    <tr>\n",
       "      <th>10908</th>\n",
       "      <td>10908</td>\n",
       "      <td>California</td>\n",
       "      <td>11971.977650</td>\n",
       "      <td>College</td>\n",
       "      <td>F</td>\n",
       "      <td>64195</td>\n",
       "      <td>158</td>\n",
       "      <td>4.0</td>\n",
       "      <td>Personal Auto</td>\n",
       "      <td>618.288849</td>\n",
       "      <td>SUV</td>\n",
       "      <td>Branch</td>\n",
       "      <td>No</td>\n",
       "    </tr>\n",
       "    <tr>\n",
       "      <th>10909</th>\n",
       "      <td>10909</td>\n",
       "      <td>NaN</td>\n",
       "      <td>6857.519928</td>\n",
       "      <td>Bachelor</td>\n",
       "      <td>M</td>\n",
       "      <td>0</td>\n",
       "      <td>101</td>\n",
       "      <td>0.0</td>\n",
       "      <td>Personal Auto</td>\n",
       "      <td>1021.719397</td>\n",
       "      <td>SUV</td>\n",
       "      <td>Web</td>\n",
       "      <td>NaN</td>\n",
       "    </tr>\n",
       "  </tbody>\n",
       "</table>\n",
       "<p>10910 rows × 13 columns</p>\n",
       "</div>"
      ],
      "text/plain": [
       "       Unnamed: 0       state  customer lifetime value education gender  \\\n",
       "0               0     Arizona              4809.216960   College      M   \n",
       "1               1  California              2228.525238   College      F   \n",
       "2               2  Washington             14947.917300  Bachelor      M   \n",
       "3               3      Oregon             22332.439460   College      M   \n",
       "4               4      Oregon              9025.067525  Bachelor      F   \n",
       "...           ...         ...                      ...       ...    ...   \n",
       "10905       10905      Nevada             15563.369440  Bachelor      F   \n",
       "10906       10906      Oregon              5259.444853   College      F   \n",
       "10907       10907     Arizona             23893.304100  Bachelor      F   \n",
       "10908       10908  California             11971.977650   College      F   \n",
       "10909       10909         NaN              6857.519928  Bachelor      M   \n",
       "\n",
       "       income  monthly premium auto  number of open complaints  \\\n",
       "0       48029                    61                        0.0   \n",
       "1           0                    64                        0.0   \n",
       "2       22139                   100                        0.0   \n",
       "3       49078                    97                        0.0   \n",
       "4       23675                   117                        NaN   \n",
       "...       ...                   ...                        ...   \n",
       "10905       0                   253                        NaN   \n",
       "10906   61146                    65                        0.0   \n",
       "10907   39837                   201                        0.0   \n",
       "10908   64195                   158                        4.0   \n",
       "10909       0                   101                        0.0   \n",
       "\n",
       "          policy type  total claim amount  vehicle class sales channel  \\\n",
       "0      Corporate Auto          292.800000  Four-Door Car         Agent   \n",
       "1       Personal Auto          744.924331  Four-Door Car   Call Center   \n",
       "2       Personal Auto          480.000000            SUV   Call Center   \n",
       "3      Corporate Auto          484.013411  Four-Door Car        Branch   \n",
       "4       Personal Auto          707.925645  Four-Door Car        Branch   \n",
       "...               ...                 ...            ...           ...   \n",
       "10905   Personal Auto         1214.400000     Luxury Car           Web   \n",
       "10906   Personal Auto          273.018929  Four-Door Car        Branch   \n",
       "10907  Corporate Auto          381.306996     Luxury SUV           Web   \n",
       "10908   Personal Auto          618.288849            SUV        Branch   \n",
       "10909   Personal Auto         1021.719397            SUV           Web   \n",
       "\n",
       "      response  \n",
       "0           No  \n",
       "1           No  \n",
       "2           No  \n",
       "3          Yes  \n",
       "4           No  \n",
       "...        ...  \n",
       "10905       No  \n",
       "10906       No  \n",
       "10907       No  \n",
       "10908       No  \n",
       "10909      NaN  \n",
       "\n",
       "[10910 rows x 13 columns]"
      ]
     },
     "execution_count": 50,
     "metadata": {},
     "output_type": "execute_result"
    }
   ],
   "source": [
    "df =pd.read_csv(\"customer_analayiss_case_study_with_response.csv\")\n",
    "df"
   ]
  },
  {
   "cell_type": "markdown",
   "id": "19174ece",
   "metadata": {},
   "source": [
    "\n",
    "- Show a plot of the total number of responses.\n",
    "- Show a plot of the response rate by the sales channel.\n",
    "- Show a plot of the response rate by the total claim amount.\n",
    "- Show a plot of the response rate by income.\n",
    "- Don't limit your creativity!  plot any interesting findings/insights that describe some interesting facts about your data set and its variables.\n",
    "- Plot the Correlation Heatmap.\n",
    "- Clean your notebook and make it a readible and presentable with a good documentation that summarizes the Data Cleaning, Exploration(including plots) Steps that you have performed."
   ]
  },
  {
   "cell_type": "code",
   "execution_count": 51,
   "id": "42c6fcea",
   "metadata": {},
   "outputs": [
    {
     "data": {
      "text/plain": [
       "No     8813\n",
       "Yes    1466\n",
       "Name: response, dtype: int64"
      ]
     },
     "execution_count": 51,
     "metadata": {},
     "output_type": "execute_result"
    }
   ],
   "source": [
    "#Number of responses\n",
    "response =df['response'].value_counts()\n",
    "response"
   ]
  },
  {
   "cell_type": "code",
   "execution_count": 52,
   "id": "fade153f",
   "metadata": {},
   "outputs": [
    {
     "data": {
      "text/plain": [
       "<BarContainer object of 2 artists>"
      ]
     },
     "execution_count": 52,
     "metadata": {},
     "output_type": "execute_result"
    },
    {
     "data": {
      "image/png": "[encoded data removed]",
      "text/plain": [
       "<Figure size 720x720 with 1 Axes>"
      ]
     },
     "metadata": {
      "needs_background": "light"
     },
     "output_type": "display_data"
    }
   ],
   "source": [
    "fig1, response_plot = plt.subplots(figsize = (10,10))\n",
    "\n",
    "response_plot.set_title('Total number of response', fontweight='bold')\n",
    "\n",
    "# plot the bar chart\n",
    "response_plot.bar(response.index, response, color=('red','green'))"
   ]
  },
  {
   "cell_type": "code",
   "execution_count": 53,
   "id": "27885ca7",
   "metadata": {},
   "outputs": [
    {
     "data": {
      "text/plain": [
       "Agent          4121\n",
       "Branch         3022\n",
       "Call Center    2141\n",
       "Web            1626\n",
       "Name: sales channel, dtype: int64"
      ]
     },
     "execution_count": 53,
     "metadata": {},
     "output_type": "execute_result"
    }
   ],
   "source": [
    "#Show a plot of the response rate by the sales channel\n",
    "channel = df['sales channel'].value_counts()\n",
    "channel"
   ]
  },
  {
   "cell_type": "code",
   "execution_count": 54,
   "id": "838df7dd",
   "metadata": {
    "scrolled": true
   },
   "outputs": [
    {
     "data": {
      "text/html": [
       "<div>\n",
       "<style scoped>\n",
       "    .dataframe tbody tr th:only-of-type {\n",
       "        vertical-align: middle;\n",
       "    }\n",
       "\n",
       "    .dataframe tbody tr th {\n",
       "        vertical-align: top;\n",
       "    }\n",
       "\n",
       "    .dataframe thead th {\n",
       "        text-align: right;\n",
       "    }\n",
       "</style>\n",
       "<table border=\"1\" class=\"dataframe\">\n",
       "  <thead>\n",
       "    <tr style=\"text-align: right;\">\n",
       "      <th></th>\n",
       "      <th>response</th>\n",
       "      <th>sales channel</th>\n",
       "      <th>count</th>\n",
       "    </tr>\n",
       "  </thead>\n",
       "  <tbody>\n",
       "    <tr>\n",
       "      <th>0</th>\n",
       "      <td>No</td>\n",
       "      <td>Agent</td>\n",
       "      <td>3148</td>\n",
       "    </tr>\n",
       "    <tr>\n",
       "      <th>1</th>\n",
       "      <td>No</td>\n",
       "      <td>Branch</td>\n",
       "      <td>2539</td>\n",
       "    </tr>\n",
       "    <tr>\n",
       "      <th>2</th>\n",
       "      <td>No</td>\n",
       "      <td>Call Center</td>\n",
       "      <td>1792</td>\n",
       "    </tr>\n",
       "    <tr>\n",
       "      <th>3</th>\n",
       "      <td>No</td>\n",
       "      <td>Web</td>\n",
       "      <td>1334</td>\n",
       "    </tr>\n",
       "    <tr>\n",
       "      <th>4</th>\n",
       "      <td>Yes</td>\n",
       "      <td>Agent</td>\n",
       "      <td>742</td>\n",
       "    </tr>\n",
       "    <tr>\n",
       "      <th>5</th>\n",
       "      <td>Yes</td>\n",
       "      <td>Branch</td>\n",
       "      <td>326</td>\n",
       "    </tr>\n",
       "    <tr>\n",
       "      <th>6</th>\n",
       "      <td>Yes</td>\n",
       "      <td>Call Center</td>\n",
       "      <td>221</td>\n",
       "    </tr>\n",
       "    <tr>\n",
       "      <th>7</th>\n",
       "      <td>Yes</td>\n",
       "      <td>Web</td>\n",
       "      <td>177</td>\n",
       "    </tr>\n",
       "  </tbody>\n",
       "</table>\n",
       "</div>"
      ],
      "text/plain": [
       "  response sales channel  count\n",
       "0       No         Agent   3148\n",
       "1       No        Branch   2539\n",
       "2       No   Call Center   1792\n",
       "3       No           Web   1334\n",
       "4      Yes         Agent    742\n",
       "5      Yes        Branch    326\n",
       "6      Yes   Call Center    221\n",
       "7      Yes           Web    177"
      ]
     },
     "execution_count": 54,
     "metadata": {},
     "output_type": "execute_result"
    }
   ],
   "source": [
    "response_channel = df.groupby(['response','sales channel'])['gender'].count().rename('count').reset_index()\n",
    "response_channel"
   ]
  },
  {
   "cell_type": "code",
   "execution_count": 55,
   "id": "61af513c",
   "metadata": {},
   "outputs": [
    {
     "data": {
      "text/plain": [
       "<AxesSubplot:title={'center':'Response Rate by Sales Channel'}, xlabel='sales channel', ylabel='count'>"
      ]
     },
     "execution_count": 55,
     "metadata": {},
     "output_type": "execute_result"
    },
    {
     "data": {
      "image/png": "[encoded data removed]",
      "text/plain": [
       "<Figure size 576x576 with 1 Axes>"
      ]
     },
     "metadata": {
      "needs_background": "light"
     },
     "output_type": "display_data"
    }
   ],
   "source": [
    "fig2, pt2 = plt.subplots(figsize = (8,8))\n",
    "pt2.set_title('Response Rate by Sales Channel', size='20', fontweight='bold')\n",
    "\n",
    "sns.barplot(hue = response_channel['response'], y=response_channel['count'], x = response_channel['sales channel'])"
   ]
  },
  {
   "cell_type": "code",
   "execution_count": 56,
   "id": "c88ff223",
   "metadata": {},
   "outputs": [
    {
     "data": {
      "text/plain": [
       "<AxesSubplot:title={'center':'Response Rate by total claim'}, xlabel='response', ylabel='total claim amount'>"
      ]
     },
     "execution_count": 56,
     "metadata": {},
     "output_type": "execute_result"
    },
    {
     "data": {
      "image/png": "[encoded data removed]",
      "text/plain": [
       "<Figure size 576x576 with 1 Axes>"
      ]
     },
     "metadata": {
      "needs_background": "light"
     },
     "output_type": "display_data"
    }
   ],
   "source": [
    "#Show a plot of the response rate by the total claim amount.\n",
    "fig3, pt3= plt.subplots(figsize = (8,8))\n",
    "pt3.set_title('Response Rate by total claim', size='20', fontweight='bold')\n",
    "\n",
    "sns.barplot(y=df['total claim amount'], x = df['response'])"
   ]
  },
  {
   "cell_type": "code",
   "execution_count": 57,
   "id": "1a1c6288",
   "metadata": {},
   "outputs": [
    {
     "data": {
      "text/plain": [
       "0        (24995.25, 49990.5]\n",
       "1        (-99.981, 24995.25]\n",
       "2        (-99.981, 24995.25]\n",
       "3        (24995.25, 49990.5]\n",
       "4        (-99.981, 24995.25]\n",
       "                ...         \n",
       "10905    (-99.981, 24995.25]\n",
       "10906    (49990.5, 74985.75]\n",
       "10907    (24995.25, 49990.5]\n",
       "10908    (49990.5, 74985.75]\n",
       "10909    (-99.981, 24995.25]\n",
       "Name: income, Length: 10910, dtype: category\n",
       "Categories (4, interval[float64]): [(-99.981, 24995.25] < (24995.25, 49990.5] < (49990.5, 74985.75] < (74985.75, 99981.0]]"
      ]
     },
     "execution_count": 57,
     "metadata": {},
     "output_type": "execute_result"
    }
   ],
   "source": [
    "#Show a plot of the response rate by income.\n",
    "\n",
    "pd.cut(df['income'],4)"
   ]
  },
  {
   "cell_type": "code",
   "execution_count": 58,
   "id": "1eaff238",
   "metadata": {},
   "outputs": [],
   "source": [
    "income_labels = ['Low', 'Moderate', 'High', 'Very High']\n",
    "df['income_range'] = pd.cut(df['income'],4, labels=income_labels)"
   ]
  },
  {
   "cell_type": "code",
   "execution_count": 59,
   "id": "9374337d",
   "metadata": {},
   "outputs": [
    {
     "data": {
      "text/html": [
       "<div>\n",
       "<style scoped>\n",
       "    .dataframe tbody tr th:only-of-type {\n",
       "        vertical-align: middle;\n",
       "    }\n",
       "\n",
       "    .dataframe tbody tr th {\n",
       "        vertical-align: top;\n",
       "    }\n",
       "\n",
       "    .dataframe thead th {\n",
       "        text-align: right;\n",
       "    }\n",
       "</style>\n",
       "<table border=\"1\" class=\"dataframe\">\n",
       "  <thead>\n",
       "    <tr style=\"text-align: right;\">\n",
       "      <th></th>\n",
       "      <th>response</th>\n",
       "      <th>income_range</th>\n",
       "      <th>count</th>\n",
       "    </tr>\n",
       "  </thead>\n",
       "  <tbody>\n",
       "    <tr>\n",
       "      <th>0</th>\n",
       "      <td>No</td>\n",
       "      <td>Low</td>\n",
       "      <td>3435</td>\n",
       "    </tr>\n",
       "    <tr>\n",
       "      <th>1</th>\n",
       "      <td>No</td>\n",
       "      <td>Moderate</td>\n",
       "      <td>2225</td>\n",
       "    </tr>\n",
       "    <tr>\n",
       "      <th>2</th>\n",
       "      <td>No</td>\n",
       "      <td>High</td>\n",
       "      <td>1835</td>\n",
       "    </tr>\n",
       "    <tr>\n",
       "      <th>3</th>\n",
       "      <td>No</td>\n",
       "      <td>Very High</td>\n",
       "      <td>1318</td>\n",
       "    </tr>\n",
       "    <tr>\n",
       "      <th>4</th>\n",
       "      <td>Yes</td>\n",
       "      <td>Low</td>\n",
       "      <td>558</td>\n",
       "    </tr>\n",
       "    <tr>\n",
       "      <th>5</th>\n",
       "      <td>Yes</td>\n",
       "      <td>Moderate</td>\n",
       "      <td>390</td>\n",
       "    </tr>\n",
       "    <tr>\n",
       "      <th>6</th>\n",
       "      <td>Yes</td>\n",
       "      <td>High</td>\n",
       "      <td>335</td>\n",
       "    </tr>\n",
       "    <tr>\n",
       "      <th>7</th>\n",
       "      <td>Yes</td>\n",
       "      <td>Very High</td>\n",
       "      <td>183</td>\n",
       "    </tr>\n",
       "  </tbody>\n",
       "</table>\n",
       "</div>"
      ],
      "text/plain": [
       "  response income_range  count\n",
       "0       No          Low   3435\n",
       "1       No     Moderate   2225\n",
       "2       No         High   1835\n",
       "3       No    Very High   1318\n",
       "4      Yes          Low    558\n",
       "5      Yes     Moderate    390\n",
       "6      Yes         High    335\n",
       "7      Yes    Very High    183"
      ]
     },
     "execution_count": 59,
     "metadata": {},
     "output_type": "execute_result"
    }
   ],
   "source": [
    "response_income = df.groupby(['response','income_range'])['gender'].count().rename('count').reset_index()\n",
    "response_income"
   ]
  },
  {
   "cell_type": "code",
   "execution_count": 60,
   "id": "a586c62e",
   "metadata": {},
   "outputs": [
    {
     "data": {
      "text/plain": [
       "<AxesSubplot:title={'center':'Response Rate by Income'}, xlabel='income_range', ylabel='count'>"
      ]
     },
     "execution_count": 60,
     "metadata": {},
     "output_type": "execute_result"
    },
    {
     "data": {
      "image/png": "[encoded data removed]",
      "text/plain": [
       "<Figure size 720x720 with 1 Axes>"
      ]
     },
     "metadata": {
      "needs_background": "light"
     },
     "output_type": "display_data"
    }
   ],
   "source": [
    "fig4, pt4 = plt.subplots(figsize = (10,10))\n",
    "pt4.set_title('Response Rate by Income', size='20', fontweight='bold')\n",
    "\n",
    "sns.barplot(hue = response_income['response'], y=response_channel['count'], x = response_income['income_range'])"
   ]
  },
  {
   "cell_type": "code",
   "execution_count": 61,
   "id": "ebda545d",
   "metadata": {},
   "outputs": [
    {
     "data": {
      "text/plain": [
       "<AxesSubplot:>"
      ]
     },
     "execution_count": 61,
     "metadata": {},
     "output_type": "execute_result"
    },
    {
     "data": {
      "image/png": "[encoded data removed]",
      "text/plain": [
       "<Figure size 432x288 with 2 Axes>"
      ]
     },
     "metadata": {
      "needs_background": "light"
     },
     "output_type": "display_data"
    }
   ],
   "source": [
    "#Plot the Correlation Heatmap\n",
    "sns.heatmap(df.corr())"
   ]
  },
  {
   "cell_type": "code",
   "execution_count": 62,
   "id": "aa0bb0c6",
   "metadata": {},
   "outputs": [
    {
     "data": {
      "text/html": [
       "<div>\n",
       "<style scoped>\n",
       "    .dataframe tbody tr th:only-of-type {\n",
       "        vertical-align: middle;\n",
       "    }\n",
       "\n",
       "    .dataframe tbody tr th {\n",
       "        vertical-align: top;\n",
       "    }\n",
       "\n",
       "    .dataframe thead th {\n",
       "        text-align: right;\n",
       "    }\n",
       "</style>\n",
       "<table border=\"1\" class=\"dataframe\">\n",
       "  <thead>\n",
       "    <tr style=\"text-align: right;\">\n",
       "      <th></th>\n",
       "      <th>Unnamed: 0</th>\n",
       "      <th>customer lifetime value</th>\n",
       "      <th>income</th>\n",
       "      <th>monthly premium auto</th>\n",
       "      <th>number of open complaints</th>\n",
       "      <th>total claim amount</th>\n",
       "    </tr>\n",
       "  </thead>\n",
       "  <tbody>\n",
       "    <tr>\n",
       "      <th>Unnamed: 0</th>\n",
       "      <td>1.000000</td>\n",
       "      <td>0.001355</td>\n",
       "      <td>0.008910</td>\n",
       "      <td>0.000863</td>\n",
       "      <td>0.007325</td>\n",
       "      <td>-0.000593</td>\n",
       "    </tr>\n",
       "    <tr>\n",
       "      <th>customer lifetime value</th>\n",
       "      <td>0.001355</td>\n",
       "      <td>1.000000</td>\n",
       "      <td>0.028306</td>\n",
       "      <td>0.403069</td>\n",
       "      <td>-0.032243</td>\n",
       "      <td>0.232626</td>\n",
       "    </tr>\n",
       "    <tr>\n",
       "      <th>income</th>\n",
       "      <td>0.008910</td>\n",
       "      <td>0.028306</td>\n",
       "      <td>1.000000</td>\n",
       "      <td>-0.009788</td>\n",
       "      <td>0.007163</td>\n",
       "      <td>-0.354141</td>\n",
       "    </tr>\n",
       "    <tr>\n",
       "      <th>monthly premium auto</th>\n",
       "      <td>0.000863</td>\n",
       "      <td>0.403069</td>\n",
       "      <td>-0.009788</td>\n",
       "      <td>1.000000</td>\n",
       "      <td>-0.010350</td>\n",
       "      <td>0.631799</td>\n",
       "    </tr>\n",
       "    <tr>\n",
       "      <th>number of open complaints</th>\n",
       "      <td>0.007325</td>\n",
       "      <td>-0.032243</td>\n",
       "      <td>0.007163</td>\n",
       "      <td>-0.010350</td>\n",
       "      <td>1.000000</td>\n",
       "      <td>-0.011379</td>\n",
       "    </tr>\n",
       "    <tr>\n",
       "      <th>total claim amount</th>\n",
       "      <td>-0.000593</td>\n",
       "      <td>0.232626</td>\n",
       "      <td>-0.354141</td>\n",
       "      <td>0.631799</td>\n",
       "      <td>-0.011379</td>\n",
       "      <td>1.000000</td>\n",
       "    </tr>\n",
       "  </tbody>\n",
       "</table>\n",
       "</div>"
      ],
      "text/plain": [
       "                           Unnamed: 0  customer lifetime value    income  \\\n",
       "Unnamed: 0                   1.000000                 0.001355  0.008910   \n",
       "customer lifetime value      0.001355                 1.000000  0.028306   \n",
       "income                       0.008910                 0.028306  1.000000   \n",
       "monthly premium auto         0.000863                 0.403069 -0.009788   \n",
       "number of open complaints    0.007325                -0.032243  0.007163   \n",
       "total claim amount          -0.000593                 0.232626 -0.354141   \n",
       "\n",
       "                           monthly premium auto  number of open complaints  \\\n",
       "Unnamed: 0                             0.000863                   0.007325   \n",
       "customer lifetime value                0.403069                  -0.032243   \n",
       "income                                -0.009788                   0.007163   \n",
       "monthly premium auto                   1.000000                  -0.010350   \n",
       "number of open complaints             -0.010350                   1.000000   \n",
       "total claim amount                     0.631799                  -0.011379   \n",
       "\n",
       "                           total claim amount  \n",
       "Unnamed: 0                          -0.000593  \n",
       "customer lifetime value              0.232626  \n",
       "income                              -0.354141  \n",
       "monthly premium auto                 0.631799  \n",
       "number of open complaints           -0.011379  \n",
       "total claim amount                   1.000000  "
      ]
     },
     "execution_count": 62,
     "metadata": {},
     "output_type": "execute_result"
    }
   ],
   "source": [
    "df.corr()"
   ]
  },
  {
   "cell_type": "markdown",
   "id": "cb31e966",
   "metadata": {},
   "source": [
    "activity 5\n",
    "- Check the data types of the columns. Get the numeric data into dataframe called `numerical` and categorical columns in a dataframe called `categoricals`. (You can use np.number and np.object to select the numerical data types and categorical data types respectively)\n",
    "- Now we will try to check the normality of the numerical variables visually\n",
    "  - Use seaborn library to construct distribution plots for the numerical variables\n",
    "  - Use Matplotlib to construct histograms\n",
    "  - Do the distributions for different numerical variables look like a normal distribution \n",
    "- For the numerical variables, check the multicollinearity between the features. Please note that we will use the column `total_claim_amount` later as the target variable. \n",
    "- Drop one of the two features that show a high correlation between them (greater than 0.9). Write code for both the correlation matrix and for seaborn heatmap. If there is no pair of features that have a high correlation, then do not drop any features\n",
    "\n"
   ]
  },
  {
   "cell_type": "markdown",
   "id": "13938347",
   "metadata": {},
   "source": [
    "#Activity 6\n",
    "\n",
    "-X-y split\n",
    "\n",
    "-Normalize (numerical).\n",
    "\n",
    "-One Hot/Label Encoding (categorical)."
   ]
  },
  {
   "cell_type": "code",
   "execution_count": 63,
   "id": "68587fc8",
   "metadata": {},
   "outputs": [
    {
     "data": {
      "text/html": [
       "<div>\n",
       "<style scoped>\n",
       "    .dataframe tbody tr th:only-of-type {\n",
       "        vertical-align: middle;\n",
       "    }\n",
       "\n",
       "    .dataframe tbody tr th {\n",
       "        vertical-align: top;\n",
       "    }\n",
       "\n",
       "    .dataframe thead th {\n",
       "        text-align: right;\n",
       "    }\n",
       "</style>\n",
       "<table border=\"1\" class=\"dataframe\">\n",
       "  <thead>\n",
       "    <tr style=\"text-align: right;\">\n",
       "      <th></th>\n",
       "      <th>state</th>\n",
       "      <th>customer lifetime value</th>\n",
       "      <th>education</th>\n",
       "      <th>gender</th>\n",
       "      <th>income</th>\n",
       "      <th>monthly premium auto</th>\n",
       "      <th>number of open complaints</th>\n",
       "      <th>policy type</th>\n",
       "      <th>total claim amount</th>\n",
       "      <th>vehicle class</th>\n",
       "      <th>sales channel</th>\n",
       "      <th>response</th>\n",
       "      <th>income_range</th>\n",
       "    </tr>\n",
       "  </thead>\n",
       "  <tbody>\n",
       "    <tr>\n",
       "      <th>0</th>\n",
       "      <td>Arizona</td>\n",
       "      <td>4809.216960</td>\n",
       "      <td>College</td>\n",
       "      <td>M</td>\n",
       "      <td>48029</td>\n",
       "      <td>61</td>\n",
       "      <td>0.0</td>\n",
       "      <td>Corporate Auto</td>\n",
       "      <td>292.800000</td>\n",
       "      <td>Four-Door Car</td>\n",
       "      <td>Agent</td>\n",
       "      <td>No</td>\n",
       "      <td>Moderate</td>\n",
       "    </tr>\n",
       "    <tr>\n",
       "      <th>1</th>\n",
       "      <td>California</td>\n",
       "      <td>2228.525238</td>\n",
       "      <td>College</td>\n",
       "      <td>F</td>\n",
       "      <td>0</td>\n",
       "      <td>64</td>\n",
       "      <td>0.0</td>\n",
       "      <td>Personal Auto</td>\n",
       "      <td>744.924331</td>\n",
       "      <td>Four-Door Car</td>\n",
       "      <td>Call Center</td>\n",
       "      <td>No</td>\n",
       "      <td>Low</td>\n",
       "    </tr>\n",
       "    <tr>\n",
       "      <th>2</th>\n",
       "      <td>Washington</td>\n",
       "      <td>14947.917300</td>\n",
       "      <td>Bachelor</td>\n",
       "      <td>M</td>\n",
       "      <td>22139</td>\n",
       "      <td>100</td>\n",
       "      <td>0.0</td>\n",
       "      <td>Personal Auto</td>\n",
       "      <td>480.000000</td>\n",
       "      <td>SUV</td>\n",
       "      <td>Call Center</td>\n",
       "      <td>No</td>\n",
       "      <td>Low</td>\n",
       "    </tr>\n",
       "    <tr>\n",
       "      <th>3</th>\n",
       "      <td>Oregon</td>\n",
       "      <td>22332.439460</td>\n",
       "      <td>College</td>\n",
       "      <td>M</td>\n",
       "      <td>49078</td>\n",
       "      <td>97</td>\n",
       "      <td>0.0</td>\n",
       "      <td>Corporate Auto</td>\n",
       "      <td>484.013411</td>\n",
       "      <td>Four-Door Car</td>\n",
       "      <td>Branch</td>\n",
       "      <td>Yes</td>\n",
       "      <td>Moderate</td>\n",
       "    </tr>\n",
       "    <tr>\n",
       "      <th>4</th>\n",
       "      <td>Oregon</td>\n",
       "      <td>9025.067525</td>\n",
       "      <td>Bachelor</td>\n",
       "      <td>F</td>\n",
       "      <td>23675</td>\n",
       "      <td>117</td>\n",
       "      <td>NaN</td>\n",
       "      <td>Personal Auto</td>\n",
       "      <td>707.925645</td>\n",
       "      <td>Four-Door Car</td>\n",
       "      <td>Branch</td>\n",
       "      <td>No</td>\n",
       "      <td>Low</td>\n",
       "    </tr>\n",
       "    <tr>\n",
       "      <th>...</th>\n",
       "      <td>...</td>\n",
       "      <td>...</td>\n",
       "      <td>...</td>\n",
       "      <td>...</td>\n",
       "      <td>...</td>\n",
       "      <td>...</td>\n",
       "      <td>...</td>\n",
       "      <td>...</td>\n",
       "      <td>...</td>\n",
       "      <td>...</td>\n",
       "      <td>...</td>\n",
       "      <td>...</td>\n",
       "      <td>...</td>\n",
       "    </tr>\n",
       "    <tr>\n",
       "      <th>10905</th>\n",
       "      <td>Nevada</td>\n",
       "      <td>15563.369440</td>\n",
       "      <td>Bachelor</td>\n",
       "      <td>F</td>\n",
       "      <td>0</td>\n",
       "      <td>253</td>\n",
       "      <td>NaN</td>\n",
       "      <td>Personal Auto</td>\n",
       "      <td>1214.400000</td>\n",
       "      <td>Luxury Car</td>\n",
       "      <td>Web</td>\n",
       "      <td>No</td>\n",
       "      <td>Low</td>\n",
       "    </tr>\n",
       "    <tr>\n",
       "      <th>10906</th>\n",
       "      <td>Oregon</td>\n",
       "      <td>5259.444853</td>\n",
       "      <td>College</td>\n",
       "      <td>F</td>\n",
       "      <td>61146</td>\n",
       "      <td>65</td>\n",
       "      <td>0.0</td>\n",
       "      <td>Personal Auto</td>\n",
       "      <td>273.018929</td>\n",
       "      <td>Four-Door Car</td>\n",
       "      <td>Branch</td>\n",
       "      <td>No</td>\n",
       "      <td>High</td>\n",
       "    </tr>\n",
       "    <tr>\n",
       "      <th>10907</th>\n",
       "      <td>Arizona</td>\n",
       "      <td>23893.304100</td>\n",
       "      <td>Bachelor</td>\n",
       "      <td>F</td>\n",
       "      <td>39837</td>\n",
       "      <td>201</td>\n",
       "      <td>0.0</td>\n",
       "      <td>Corporate Auto</td>\n",
       "      <td>381.306996</td>\n",
       "      <td>Luxury SUV</td>\n",
       "      <td>Web</td>\n",
       "      <td>No</td>\n",
       "      <td>Moderate</td>\n",
       "    </tr>\n",
       "    <tr>\n",
       "      <th>10908</th>\n",
       "      <td>California</td>\n",
       "      <td>11971.977650</td>\n",
       "      <td>College</td>\n",
       "      <td>F</td>\n",
       "      <td>64195</td>\n",
       "      <td>158</td>\n",
       "      <td>4.0</td>\n",
       "      <td>Personal Auto</td>\n",
       "      <td>618.288849</td>\n",
       "      <td>SUV</td>\n",
       "      <td>Branch</td>\n",
       "      <td>No</td>\n",
       "      <td>High</td>\n",
       "    </tr>\n",
       "    <tr>\n",
       "      <th>10909</th>\n",
       "      <td>NaN</td>\n",
       "      <td>6857.519928</td>\n",
       "      <td>Bachelor</td>\n",
       "      <td>M</td>\n",
       "      <td>0</td>\n",
       "      <td>101</td>\n",
       "      <td>0.0</td>\n",
       "      <td>Personal Auto</td>\n",
       "      <td>1021.719397</td>\n",
       "      <td>SUV</td>\n",
       "      <td>Web</td>\n",
       "      <td>NaN</td>\n",
       "      <td>Low</td>\n",
       "    </tr>\n",
       "  </tbody>\n",
       "</table>\n",
       "<p>10910 rows × 13 columns</p>\n",
       "</div>"
      ],
      "text/plain": [
       "            state  customer lifetime value education gender  income  \\\n",
       "0         Arizona              4809.216960   College      M   48029   \n",
       "1      California              2228.525238   College      F       0   \n",
       "2      Washington             14947.917300  Bachelor      M   22139   \n",
       "3          Oregon             22332.439460   College      M   49078   \n",
       "4          Oregon              9025.067525  Bachelor      F   23675   \n",
       "...           ...                      ...       ...    ...     ...   \n",
       "10905      Nevada             15563.369440  Bachelor      F       0   \n",
       "10906      Oregon              5259.444853   College      F   61146   \n",
       "10907     Arizona             23893.304100  Bachelor      F   39837   \n",
       "10908  California             11971.977650   College      F   64195   \n",
       "10909         NaN              6857.519928  Bachelor      M       0   \n",
       "\n",
       "       monthly premium auto  number of open complaints     policy type  \\\n",
       "0                        61                        0.0  Corporate Auto   \n",
       "1                        64                        0.0   Personal Auto   \n",
       "2                       100                        0.0   Personal Auto   \n",
       "3                        97                        0.0  Corporate Auto   \n",
       "4                       117                        NaN   Personal Auto   \n",
       "...                     ...                        ...             ...   \n",
       "10905                   253                        NaN   Personal Auto   \n",
       "10906                    65                        0.0   Personal Auto   \n",
       "10907                   201                        0.0  Corporate Auto   \n",
       "10908                   158                        4.0   Personal Auto   \n",
       "10909                   101                        0.0   Personal Auto   \n",
       "\n",
       "       total claim amount  vehicle class sales channel response income_range  \n",
       "0              292.800000  Four-Door Car         Agent       No     Moderate  \n",
       "1              744.924331  Four-Door Car   Call Center       No          Low  \n",
       "2              480.000000            SUV   Call Center       No          Low  \n",
       "3              484.013411  Four-Door Car        Branch      Yes     Moderate  \n",
       "4              707.925645  Four-Door Car        Branch       No          Low  \n",
       "...                   ...            ...           ...      ...          ...  \n",
       "10905         1214.400000     Luxury Car           Web       No          Low  \n",
       "10906          273.018929  Four-Door Car        Branch       No         High  \n",
       "10907          381.306996     Luxury SUV           Web       No     Moderate  \n",
       "10908          618.288849            SUV        Branch       No         High  \n",
       "10909         1021.719397            SUV           Web      NaN          Low  \n",
       "\n",
       "[10910 rows x 13 columns]"
      ]
     },
     "execution_count": 63,
     "metadata": {},
     "output_type": "execute_result"
    }
   ],
   "source": [
    "df= df.drop(\"Unnamed: 0\", axis = 1)\n",
    "df"
   ]
  },
  {
   "cell_type": "code",
   "execution_count": 64,
   "id": "589f5bec",
   "metadata": {},
   "outputs": [],
   "source": [
    "df= df.rename(columns={'total claim amount':'total_claim_amount','customer lifetime value':'clv','monthly premium auto':'mpa','number of open complaints':'number_of_complaints'})"
   ]
  },
  {
   "cell_type": "code",
   "execution_count": 48,
   "id": "d9c7cea6",
   "metadata": {},
   "outputs": [],
   "source": [
    "x=df._get_numeric_data().fillna(0)"
   ]
  },
  {
   "cell_type": "code",
   "execution_count": 65,
   "id": "d5306fe7",
   "metadata": {},
   "outputs": [],
   "source": [
    "y= df.total_claim_amount"
   ]
  },
  {
   "cell_type": "code",
   "execution_count": 73,
   "id": "147ad096",
   "metadata": {},
   "outputs": [
    {
     "data": {
      "text/plain": [
       "(10910, 5)"
      ]
     },
     "execution_count": 73,
     "metadata": {},
     "output_type": "execute_result"
    }
   ],
   "source": [
    "x_scaled=StandardScaler().fit_transform(x)\n",
    "x_scaled.shape"
   ]
  },
  {
   "cell_type": "code",
   "execution_count": 74,
   "id": "c7f4f156",
   "metadata": {},
   "outputs": [
    {
     "data": {
      "text/plain": [
       "array([[-0.46610505,  0.34563485, -0.93481904, -0.4066559 , -0.48632546],\n",
       "       [-0.84094593, -1.23646244, -0.84771343, -0.4066559 ,  1.06115963],\n",
       "       [ 1.00652314, -0.50719362,  0.19755381, -0.4066559 ,  0.15440363],\n",
       "       ...,\n",
       "       [ 2.30582467,  0.07578661,  3.13010912, -0.4066559 , -0.18339273],\n",
       "       [ 0.5742732 ,  0.87815031,  1.88159547,  4.08725734,  0.62772461],\n",
       "       [-0.16859268, -1.23646244,  0.22658901, -0.4066559 ,  2.00854558]])"
      ]
     },
     "execution_count": 74,
     "metadata": {},
     "output_type": "execute_result"
    }
   ],
   "source": [
    "x_scaled"
   ]
  },
  {
   "cell_type": "code",
   "execution_count": 75,
   "id": "ee2ffd56",
   "metadata": {},
   "outputs": [],
   "source": [
    "x_train, x_test, y_train, y_test=train_test_split(x_scaled, y, test_size=.20)"
   ]
  },
  {
   "cell_type": "code",
   "execution_count": 76,
   "id": "626cfabc",
   "metadata": {},
   "outputs": [
    {
     "data": {
      "text/plain": [
       "array([[-0.3629358 ,  1.09947725, -0.73157263, -0.4066559 , -1.22256316],\n",
       "       [-0.41090018,  1.47012329,  1.18475064,  2.96377903,  0.71298796],\n",
       "       [-0.74351459, -0.12511724, -0.55736142,  0.71682241, -0.44665477],\n",
       "       ...,\n",
       "       [-0.39408079, -0.3690084 , -0.64446703, -0.4066559 , -0.32203595],\n",
       "       [-0.02862157, -1.23646244,  0.45887062, -0.4066559 ,  1.19764201],\n",
       "       [ 0.87036893, -0.03337807, -0.64446703, -0.4066559 , -1.14158774]])"
      ]
     },
     "execution_count": 76,
     "metadata": {},
     "output_type": "execute_result"
    }
   ],
   "source": [
    "x_train"
   ]
  },
  {
   "cell_type": "code",
   "execution_count": 132,
   "id": "54205f51",
   "metadata": {},
   "outputs": [
    {
     "data": {
      "text/plain": [
       "1520     350.400000\n",
       "6612      40.445860\n",
       "1370     347.857619\n",
       "7921     355.409311\n",
       "3694     686.400000\n",
       "            ...    \n",
       "10855    126.049033\n",
       "4473     445.702958\n",
       "10423    882.871945\n",
       "3906     384.000000\n",
       "1372     226.522147\n",
       "Name: total_claim_amount, Length: 8728, dtype: float64"
      ]
     },
     "execution_count": 132,
     "metadata": {},
     "output_type": "execute_result"
    }
   ],
   "source": [
    "y_train"
   ]
  },
  {
   "cell_type": "code",
   "execution_count": 77,
   "id": "e5ffec2a",
   "metadata": {},
   "outputs": [
    {
     "name": "stdout",
     "output_type": "stream",
     "text": [
      "                            OLS Regression Results                            \n",
      "==============================================================================\n",
      "Dep. Variable:     total_claim_amount   R-squared:                       1.000\n",
      "Model:                            OLS   Adj. R-squared:                  1.000\n",
      "Method:                 Least Squares   F-statistic:                 1.232e+33\n",
      "Date:                Tue, 09 Nov 2021   Prob (F-statistic):               0.00\n",
      "Time:                        14:58:24   Log-Likelihood:             2.3809e+05\n",
      "No. Observations:                8728   AIC:                        -4.762e+05\n",
      "Df Residuals:                    8722   BIC:                        -4.761e+05\n",
      "Df Model:                           5                                         \n",
      "Covariance Type:            nonrobust                                         \n",
      "==============================================================================\n",
      "                 coef    std err          t      P>|t|      [0.025      0.975]\n",
      "------------------------------------------------------------------------------\n",
      "const        434.8883   3.69e-15   1.18e+17      0.000     434.888     434.888\n",
      "x1         -2.349e-13   4.02e-15    -58.419      0.000   -2.43e-13   -2.27e-13\n",
      "x2         -1.119e-13   4.12e-15    -27.195      0.000    -1.2e-13   -1.04e-13\n",
      "x3         -3.109e-15   5.31e-15     -0.586      0.558   -1.35e-14     7.3e-15\n",
      "x4         -1.132e-13    3.7e-15    -30.570      0.000   -1.21e-13   -1.06e-13\n",
      "x5           292.1672   5.33e-15   5.48e+16      0.000     292.167     292.167\n",
      "==============================================================================\n",
      "Omnibus:                     3648.785   Durbin-Watson:                   1.956\n",
      "Prob(Omnibus):                  0.000   Jarque-Bera (JB):            21710.030\n",
      "Skew:                           1.918   Prob(JB):                         0.00\n",
      "Kurtosis:                       9.707   Cond. No.                         2.64\n",
      "==============================================================================\n",
      "\n",
      "Notes:\n",
      "[1] Standard Errors assume that the covariance matrix of the errors is correctly specified.\n"
     ]
    }
   ],
   "source": [
    "x_train = sm.add_constant(x_train) # adding a constant\n",
    "model = sm.OLS(y_train, x_train).fit()\n",
    "predictions = model.predict(x_train) \n",
    "\n",
    "print_model = model.summary()\n",
    "print(print_model)"
   ]
  },
  {
   "cell_type": "markdown",
   "id": "5f8d14b4",
   "metadata": {},
   "source": [
    "normalize (numerical)"
   ]
  },
  {
   "cell_type": "code",
   "execution_count": 78,
   "id": "2f85e78c",
   "metadata": {},
   "outputs": [],
   "source": [
    "x_train, x_test, y_train, y_test=train_test_split(x_scaled, y, test_size=.20)"
   ]
  },
  {
   "cell_type": "code",
   "execution_count": 79,
   "id": "6943059e",
   "metadata": {},
   "outputs": [
    {
     "data": {
      "text/plain": [
       "LinearRegression()"
      ]
     },
     "execution_count": 79,
     "metadata": {},
     "output_type": "execute_result"
    }
   ],
   "source": [
    "model= LinearRegression()\n",
    "model.fit(x_train,y_train)"
   ]
  },
  {
   "cell_type": "code",
   "execution_count": 81,
   "id": "c0d1221d",
   "metadata": {},
   "outputs": [
    {
     "data": {
      "text/plain": [
       "array([ 4.68187055e-14, -3.47603674e-14,  2.45809229e-14,  3.47112334e-14,\n",
       "        2.92167165e+02])"
      ]
     },
     "execution_count": 81,
     "metadata": {},
     "output_type": "execute_result"
    }
   ],
   "source": [
    "model.coef_"
   ]
  },
  {
   "cell_type": "code",
   "execution_count": 82,
   "id": "2ff94840",
   "metadata": {},
   "outputs": [
    {
     "data": {
      "text/plain": [
       "array([484.728153, 660.430456, 490.690995, ..., 345.6     , 321.6     ,\n",
       "       297.6     ])"
      ]
     },
     "execution_count": 82,
     "metadata": {},
     "output_type": "execute_result"
    }
   ],
   "source": [
    "y_pred=model.predict(x_test)\n",
    "y_pred"
   ]
  },
  {
   "cell_type": "code",
   "execution_count": 84,
   "id": "0bb57c38",
   "metadata": {},
   "outputs": [
    {
     "data": {
      "text/html": [
       "<div>\n",
       "<style scoped>\n",
       "    .dataframe tbody tr th:only-of-type {\n",
       "        vertical-align: middle;\n",
       "    }\n",
       "\n",
       "    .dataframe tbody tr th {\n",
       "        vertical-align: top;\n",
       "    }\n",
       "\n",
       "    .dataframe thead th {\n",
       "        text-align: right;\n",
       "    }\n",
       "</style>\n",
       "<table border=\"1\" class=\"dataframe\">\n",
       "  <thead>\n",
       "    <tr style=\"text-align: right;\">\n",
       "      <th></th>\n",
       "      <th>y_test</th>\n",
       "      <th>y_pred</th>\n",
       "    </tr>\n",
       "  </thead>\n",
       "  <tbody>\n",
       "    <tr>\n",
       "      <th>2338</th>\n",
       "      <td>484.728153</td>\n",
       "      <td>484.728153</td>\n",
       "    </tr>\n",
       "    <tr>\n",
       "      <th>6847</th>\n",
       "      <td>660.430456</td>\n",
       "      <td>660.430456</td>\n",
       "    </tr>\n",
       "    <tr>\n",
       "      <th>3714</th>\n",
       "      <td>490.690995</td>\n",
       "      <td>490.690995</td>\n",
       "    </tr>\n",
       "    <tr>\n",
       "      <th>2031</th>\n",
       "      <td>554.926724</td>\n",
       "      <td>554.926724</td>\n",
       "    </tr>\n",
       "    <tr>\n",
       "      <th>8890</th>\n",
       "      <td>280.037716</td>\n",
       "      <td>280.037716</td>\n",
       "    </tr>\n",
       "    <tr>\n",
       "      <th>...</th>\n",
       "      <td>...</td>\n",
       "      <td>...</td>\n",
       "    </tr>\n",
       "    <tr>\n",
       "      <th>5281</th>\n",
       "      <td>604.800000</td>\n",
       "      <td>604.800000</td>\n",
       "    </tr>\n",
       "    <tr>\n",
       "      <th>10259</th>\n",
       "      <td>329.494000</td>\n",
       "      <td>329.494000</td>\n",
       "    </tr>\n",
       "    <tr>\n",
       "      <th>226</th>\n",
       "      <td>345.600000</td>\n",
       "      <td>345.600000</td>\n",
       "    </tr>\n",
       "    <tr>\n",
       "      <th>5842</th>\n",
       "      <td>321.600000</td>\n",
       "      <td>321.600000</td>\n",
       "    </tr>\n",
       "    <tr>\n",
       "      <th>7412</th>\n",
       "      <td>297.600000</td>\n",
       "      <td>297.600000</td>\n",
       "    </tr>\n",
       "  </tbody>\n",
       "</table>\n",
       "<p>2182 rows × 2 columns</p>\n",
       "</div>"
      ],
      "text/plain": [
       "           y_test      y_pred\n",
       "2338   484.728153  484.728153\n",
       "6847   660.430456  660.430456\n",
       "3714   490.690995  490.690995\n",
       "2031   554.926724  554.926724\n",
       "8890   280.037716  280.037716\n",
       "...           ...         ...\n",
       "5281   604.800000  604.800000\n",
       "10259  329.494000  329.494000\n",
       "226    345.600000  345.600000\n",
       "5842   321.600000  321.600000\n",
       "7412   297.600000  297.600000\n",
       "\n",
       "[2182 rows x 2 columns]"
      ]
     },
     "execution_count": 84,
     "metadata": {},
     "output_type": "execute_result"
    }
   ],
   "source": [
    "result=pd.DataFrame({\"y_test\":y_test,\"y_pred\":y_pred})\n",
    "result"
   ]
  },
  {
   "cell_type": "code",
   "execution_count": 86,
   "id": "f02237c2",
   "metadata": {},
   "outputs": [
    {
     "data": {
      "text/plain": [
       "Text(0.5, 1.0, 'Test Set Residual histogram')"
      ]
     },
     "execution_count": 86,
     "metadata": {},
     "output_type": "execute_result"
    },
    {
     "data": {
      "image/png": "[encoded data removed]",
      "text/plain": [
       "<Figure size 648x288 with 2 Axes>"
      ]
     },
     "metadata": {
      "needs_background": "light"
     },
     "output_type": "display_data"
    }
   ],
   "source": [
    "fig, ax = plt.subplots(1,2,figsize=(9,4))\n",
    "ax[0].plot(y_pred, y_test, 'o')\n",
    "ax[0].set_xlabel(\"y_test\")\n",
    "ax[0].set_ylabel(\"y_pred\")\n",
    "ax[0].set_title(\"Test Set -Predicted vs real\")\n",
    "\n",
    "# Get a histogram of the residuals ie: y - y_pred.  Homoscdasticity\n",
    "# It resembles a normal distribution?\n",
    "ax[1].hist(y_test - y_pred)\n",
    "ax[1].set_xlabel(\"Test y-y_pred\")\n",
    "ax[1].set_title(\"Test Set Residual histogram\")\n"
   ]
  },
  {
   "cell_type": "code",
   "execution_count": null,
   "id": "94b29543",
   "metadata": {},
   "outputs": [],
   "source": []
  }
 ],
 "metadata": {
  "kernelspec": {
   "display_name": "Python 3",
   "language": "python",
   "name": "python3"
  },
  "language_info": {
   "codemirror_mode": {
    "name": "ipython",
    "version": 3
   },
   "file_extension": ".py",
   "mimetype": "text/x-python",
   "name": "python",
   "nbconvert_exporter": "python",
   "pygments_lexer": "ipython3",
   "version": "3.8.8"
  }
 },
 "nbformat": 4,
 "nbformat_minor": 5
}
